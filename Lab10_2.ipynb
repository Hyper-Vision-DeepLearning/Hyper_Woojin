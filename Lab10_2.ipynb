{
 "cells": [
  {
   "cell_type": "markdown",
   "metadata": {
    "id": "sVZf6thBVbdq"
   },
   "source": [
    "CNN으로 MNIST 분류하기"
   ]
  },
  {
   "cell_type": "markdown",
   "metadata": {
    "id": "H41K97wTViWT"
   },
   "source": [
    "우선 필요한 도구들을 임포트합니다."
   ]
  },
  {
   "cell_type": "code",
   "execution_count": 1,
   "metadata": {
    "id": "icc1MpOpOlQT"
   },
   "outputs": [],
   "source": [
    "import torch\n",
    "import torchvision.datasets as dsets\n",
    "import torchvision.transforms as transforms\n",
    "import torch.nn.init"
   ]
  },
  {
   "cell_type": "markdown",
   "metadata": {
    "id": "dRuAez2sVk-f"
   },
   "source": [
    "만약 GPU를 사용 가능하다면 device 값이 cuda가 되고, 아니라면 cpu가 됩니다."
   ]
  },
  {
   "cell_type": "code",
   "execution_count": 2,
   "metadata": {
    "id": "d_EjESv3OlQY"
   },
   "outputs": [],
   "source": [
    "device = 'cuda' if torch.cuda.is_available() else 'cpu'\n",
    "\n",
    "# for reproducibility\n",
    "torch.manual_seed(777)\n",
    "if device == 'cuda':\n",
    "    torch.cuda.manual_seed_all(777)"
   ]
  },
  {
   "cell_type": "markdown",
   "metadata": {
    "id": "VpmK5VASVlhd"
   },
   "source": [
    "학습에 사용할 파라미터를 설정합니다."
   ]
  },
  {
   "cell_type": "code",
   "execution_count": 3,
   "metadata": {
    "id": "CrNDK2v3OlQZ"
   },
   "outputs": [],
   "source": [
    "# parameters\n",
    "learning_rate = 0.001\n",
    "training_epochs = 15\n",
    "batch_size = 100"
   ]
  },
  {
   "cell_type": "markdown",
   "metadata": {
    "id": "SyRC42zZVoc4"
   },
   "source": [
    "데이터로더를 사용하여 데이터를 다루기 위해서 데이터셋을 정의해줍니다."
   ]
  },
  {
   "cell_type": "code",
   "execution_count": 6,
   "metadata": {
    "id": "yVBy7jwiOlQZ"
   },
   "outputs": [],
   "source": [
    "# MNIST dataset\n",
    "mnist_train = dsets.MNIST(root='MNIST_data/',\n",
    "                          train = True #True는 train 데이터\n",
    "                          transform=transfroms.ToTensor(), #데이터를 PyTorch 텐서로 변환\n",
    "                          download=True) #해당 경로에 MNIST 데이터가 없다면 다운로드\n",
    "\n",
    "mnist_test = dsets.MNIST(root='MNIST_data/',\n",
    "                         train=False, #False는 test 데이터\n",
    "                         transform=transforms.ToTensor(), #데이터를 PyTorch 텐서로 변환\n",
    "                         download=True) #해당 경로에 MNIST 데이터가 없다면 다운로드"
   ]
  },
  {
   "cell_type": "code",
   "execution_count": 8,
   "metadata": {
    "id": "uYwMcO7ROlQa"
   },
   "outputs": [],
   "source": [
    "# dataset loader\n",
    "data_loader = torch.utils.data.DataLoader(dataset=mnist_train, # mnist_train 데이터를 로드할 대상으로 정해줍니다.\n",
    "                                          batch_size=batch_size, # 위에서 정의한 배치크기를 사용합니다.\n",
    "                                          shuffle=True, # Epoch마다 데이터 셋을 섞어서 데이터가 학습되는 순서를 바꾸겠습니다.\n",
    "                                          drop_last=True) #마지막 배치를 버리겠습니다."
   ]
  },
  {
   "cell_type": "markdown",
   "metadata": {
    "id": "8CLgj5IgVp9F"
   },
   "source": [
    "이제 클래스로 모델을 설계합니다."
   ]
  },
  {
   "cell_type": "code",
   "execution_count": 10,
   "metadata": {
    "id": "bMmPUmoGOlQa"
   },
   "outputs": [],
   "source": [
    "# CNN Model (2 conv layers)\n",
    "class CNN(torch.nn.Module):\n",
    "\n",
    "    def __init__(self):\n",
    "        super(CNN, self).__init__()\n",
    "\n",
    "        self.layer1 = torch.nn.Sequential(\n",
    "            # 1번 레이어 : 합성곱층(Convolutional layer)\n",
    "            # 합성곱(in_channel = 1, out_channel = 32, kernel_size=3, stride=1, padding=1)\n",
    "            # 활성화 함수 ReLU\n",
    "            # 맥스풀링(kernel_size=2, stride=2))\n",
    "\n",
    "        self.layer2 = torch.nn.Sequential(\n",
    "            # 2번 레이어 : 합성곱층(Convolutional layer)\n",
    "            # 합성곱(in_channel = 32, out_channel = 64, kernel_size=3, stride=1, padding=1)\n",
    "            # 활성화 함수 ReLU\n",
    "            # 맥스풀링(kernel_size=2, stride=2))\n",
    "        \n",
    "        # fc layer 7x7x64 inputs -> 10 outputs\n",
    "        self.fc = torch.nn.Linear(7*7*64, 10, bias=True)\n",
    "        \n",
    "        # fc layer 한정으로 가중치 초기화\n",
    "        torch.nn.init.xavier_uniform_(self.fc.weight)\n",
    "\n",
    "    def forward(self, x):\n",
    "        out = self.layer1(x)\n",
    "        out = self.layer2(out)\n",
    "        out = out.view(out.size(0), -1)\n",
    "        out = self.fc(out)\n",
    "        return out"
   ]
  },
  {
   "cell_type": "markdown",
   "metadata": {
    "id": "N4WUPlqOcJax"
   },
   "source": [
    "모델을 정의합니다."
   ]
  },
  {
   "cell_type": "code",
   "execution_count": 11,
   "metadata": {
    "id": "v-hNaJojOlQc"
   },
   "outputs": [],
   "source": [
    "# instantiate CNN model\n",
    "model = CNN().to(device)"
   ]
  },
  {
   "cell_type": "markdown",
   "metadata": {
    "id": "IF9vUyIbcLr7"
   },
   "source": [
    "비용 함수와 옵티마이저를 정의합니다."
   ]
  },
  {
   "cell_type": "code",
   "execution_count": 12,
   "metadata": {
    "id": "cmmrSZGyOlQd"
   },
   "outputs": [],
   "source": [
    "# define cost/loss & optimizer\n",
    "criterion = torch.nn.CrossEntropyLoss().to(device) # CrossEntropyLoss()를 사용합니다.\n",
    "optimizer = torch.optim.Adam(model.parameters(), lr=learning_rate)# Adam optimizer를 사용하고 위에서 정의한 learning rate를 사용합니다."
   ]
  },
  {
   "cell_type": "markdown",
   "metadata": {
    "id": "9pX2cNpncPB1"
   },
   "source": [
    "총 배치의 수를 출력해보겠습니다."
   ]
  },
  {
   "cell_type": "code",
   "execution_count": 14,
   "metadata": {
    "colab": {
     "base_uri": "https://localhost:8080/"
    },
    "id": "WW4XNFBtcQEj",
    "outputId": "c5bd4700-4149-4019-eaa9-4c5a1dc3d507"
   },
   "outputs": [
    {
     "name": "stdout",
     "output_type": "stream",
     "text": [
      "600\n"
     ]
    }
   ],
   "source": [
    "total_batch = len(data_loader)\n",
    "print(total_batch)"
   ]
  },
  {
   "cell_type": "markdown",
   "metadata": {
    "id": "hiFEux16cRP-"
   },
   "source": [
    "총 배치의 수는 600입니다. 그런데 배치 크기를 100으로 했으므로 결국 훈련 데이터는 총 60,000개란 의미입니다. 이제 모델을 훈련시켜보겠습니다. (시간이 꽤 오래 걸립니다.)"
   ]
  },
  {
   "cell_type": "code",
   "execution_count": 15,
   "metadata": {
    "colab": {
     "base_uri": "https://localhost:8080/"
    },
    "id": "UoqAZwJOOlQe",
    "outputId": "91b46c87-247c-480b-ab73-450f6bad6fdc"
   },
   "outputs": [
    {
     "name": "stdout",
     "output_type": "stream",
     "text": [
      "[Epoch:    1] cost = 0.225693539\n",
      "[Epoch:    2] cost = 0.0626374483\n",
      "[Epoch:    3] cost = 0.0456332304\n",
      "[Epoch:    4] cost = 0.0368071571\n",
      "[Epoch:    5] cost = 0.030689219\n",
      "[Epoch:    6] cost = 0.0255564786\n",
      "[Epoch:    7] cost = 0.0214823\n",
      "[Epoch:    8] cost = 0.0180352051\n",
      "[Epoch:    9] cost = 0.0157987718\n",
      "[Epoch:   10] cost = 0.0133371148\n",
      "[Epoch:   11] cost = 0.0104042906\n",
      "[Epoch:   12] cost = 0.00931073725\n",
      "[Epoch:   13] cost = 0.00867171492\n",
      "[Epoch:   14] cost = 0.00615253532\n",
      "[Epoch:   15] cost = 0.00712895254\n",
      "Learning Finished!\n"
     ]
    }
   ],
   "source": [
    "# train my model\n",
    "\n",
    "for epoch in range(training_epochs):\n",
    "    avg_cost = 0\n",
    "\n",
    "    for X, Y in data_loader:\n",
    "        # image is already size of (28x28), no reshape\n",
    "        # label is not one-hot encoded\n",
    "        X = X.to(device)\n",
    "        Y = Y.to(device)\n",
    "\n",
    "        optimizer.zero_grad() # gradient를 0으로 초기화\n",
    "        hypothesis = model(X) #모델을 생성해서 hypothesis를 구해보세요.\n",
    "        cost = criterion(hypothesis, Y) #위에서 정의한 비용함수를 사용하세요.\n",
    "        cost.backward() # 비용 함수를 미분하여 gradient 계산\n",
    "        optimizer.step() # W와 b를 업데이트\n",
    "\n",
    "        avg_cost += cost / total_batch\n",
    "\n",
    "    print('[Epoch: {:>4}] cost = {:>.9}'.format(epoch + 1, avg_cost))\n",
    "\n",
    "print('Learning Finished!')"
   ]
  },
  {
   "cell_type": "markdown",
   "metadata": {
    "id": "mOj2qt2ydBY2"
   },
   "source": [
    "이제 테스트를 해보겠습니다.\n",
    "\n",
    "학습을 진행하지 않을 것이므로 torch.no_grad()"
   ]
  },
  {
   "cell_type": "code",
   "execution_count": 16,
   "metadata": {
    "colab": {
     "base_uri": "https://localhost:8080/"
    },
    "id": "DqvwWQ2lOlQe",
    "outputId": "d7478be4-e72c-4603-c5c0-6962cedf9cf2"
   },
   "outputs": [
    {
     "name": "stderr",
     "output_type": "stream",
     "text": [
      "/usr/local/lib/python3.7/dist-packages/torchvision/datasets/mnist.py:80: UserWarning: test_data has been renamed data\n",
      "  warnings.warn(\"test_data has been renamed data\")\n",
      "/usr/local/lib/python3.7/dist-packages/torchvision/datasets/mnist.py:70: UserWarning: test_labels has been renamed targets\n",
      "  warnings.warn(\"test_labels has been renamed targets\")\n"
     ]
    },
    {
     "name": "stdout",
     "output_type": "stream",
     "text": [
      "Accuracy: 0.9882999658584595\n"
     ]
    }
   ],
   "source": [
    "# Test model and check accuracy\n",
    "with torch.no_grad():\n",
    "    X_test = mnist_test.test_data.view(len(mnist_test), 1, 28, 28).float().to(device)\n",
    "    Y_test = mnist_test.test_labels.to(device)\n",
    "\n",
    "    prediction = model(X_test)\n",
    "    correct_prediction = torch.argmax(prediction, 1) == Y_test\n",
    "    accuracy = correct_prediction.float().mean()\n",
    "    print('Accuracy:', accuracy.item())"
   ]
  },
  {
   "cell_type": "markdown",
   "metadata": {
    "id": "RDvRZf98dHCG"
   },
   "source": [
    "98%의 정확도를 얻습니다. 다음 챕터에서는 층을 더 쌓아보겠습니다."
   ]
  }
 ],
 "metadata": {
  "accelerator": "GPU",
  "colab": {
   "collapsed_sections": [],
   "name": "Lab10_2.ipynb",
   "provenance": []
  },
  "kernelspec": {
   "display_name": "Python 3 (ipykernel)",
   "language": "python",
   "name": "python3"
  },
  "language_info": {
   "codemirror_mode": {
    "name": "ipython",
    "version": 3
   },
   "file_extension": ".py",
   "mimetype": "text/x-python",
   "name": "python",
   "nbconvert_exporter": "python",
   "pygments_lexer": "ipython3",
   "version": "3.9.7"
  }
 },
 "nbformat": 4,
 "nbformat_minor": 1
}
