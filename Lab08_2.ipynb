{
 "cells": [
  {
   "cell_type": "markdown",
   "metadata": {
    "id": "8wvTMY6BCXcs"
   },
   "source": [
    "이번 Lab을 통해 XOR 문제를 다층 퍼셉트론으로 구현해보겠습니다!"
   ]
  },
  {
   "cell_type": "code",
   "execution_count": null,
   "metadata": {
    "id": "fNRRWU2mCS1R"
   },
   "outputs": [],
   "source": [
    "import torch\n",
    "import torch.nn as nn"
   ]
  },
  {
   "cell_type": "code",
   "execution_count": null,
   "metadata": {
    "id": "u5QGlnWPCS1S"
   },
   "outputs": [],
   "source": [
    "device = 'cuda' if torch.cuda.is_available() else 'cpu'\n",
    "\n",
    "# for reproducibility\n",
    "torch.manual_seed(777)\n",
    "if device == 'cuda':\n",
    "    torch.cuda.manual_seed_all(777)"
   ]
  },
  {
   "cell_type": "markdown",
   "metadata": {
    "id": "EVMMZlZbCtMd"
   },
   "source": [
    "XOR 문제를 풀기 위한 입력과 출력을 정의해줍니다."
   ]
  },
  {
   "cell_type": "code",
   "execution_count": null,
   "metadata": {
    "id": "Y9rTkJw_CS1T"
   },
   "outputs": [],
   "source": [
    "X = torch.FloatTensor([[0, 0], [0, 1], [1, 0], [1, 1]]).to(device)\n",
    "Y = torch.FloatTensor([[0], [1], [1], [0]]).to(device)"
   ]
  },
  {
   "cell_type": "markdown",
   "metadata": {
    "id": "NDcp9ik6DCaQ"
   },
   "source": [
    "입력층, 은닉층 3개, 출력층을 가지는 인공신경망을 구현해보겠습니다."
   ]
  },
  {
   "cell_type": "code",
   "execution_count": null,
   "metadata": {
    "id": "P1U4O5_MD2wD"
   },
   "outputs": [],
   "source": [
    "model = nn.Sequential(\n",
    "          nn.Linear(2, 10, bias=True), # input layer의 크기를 생각해보세요.\n",
    "          nn.Sigmoid(),\n",
    "          nn.Linear(10, 10, bias=True), \n",
    "          nn.Sigmoid(),\n",
    "          nn.Linear(10, 10, bias=True), \n",
    "          nn.Sigmoid(),\n",
    "          nn.Linear(10, 1, bias=True), # output layer의 크기를 생각해보세요.\n",
    "          nn.Sigmoid()\n",
    "          ).to(device)"
   ]
  },
  {
   "cell_type": "code",
   "execution_count": null,
   "metadata": {
    "id": "Q1A6-bmjJULd"
   },
   "outputs": [],
   "source": [
    "\"\"\"\n",
    "# 이렇게 구현해도 됩니다.\n",
    "# nn layers\n",
    "linear1 = torch.nn.Linear(2, 10, bias=True) # input layer의 크기를 생각해보세요.\n",
    "linear2 = torch.nn.Linear(10, 10, bias=True)\n",
    "linear3 = torch.nn.Linear(10, 10, bias=True)\n",
    "linear4 = torch.nn.Linear(10, 1, bias=True) # output layer의 크기를 생각해보세요.\n",
    "sigmoid = torch.nn.Sigmoid()\n",
    "\n",
    "# model\n",
    "model = torch.nn.Sequential(linear1, sigmoid, linear2, sigmoid, linear3, sigmoid, linear4, sigmoid).to(device)\n",
    "\"\"\""
   ]
  },
  {
   "cell_type": "markdown",
   "metadata": {
    "id": "7yG79vd1FncB"
   },
   "source": [
    "이제 비용 함수와 옵타마이저를 선언합니다."
   ]
  },
  {
   "cell_type": "code",
   "execution_count": null,
   "metadata": {
    "id": "c5brC6ctCS1U"
   },
   "outputs": [],
   "source": [
    "# define cost/loss & optimizer\n",
    "criterion = torch.nn.BCELoss().to(device) # 이진 분류에서 사용하는 크로스엔트로피 함수를 사용하세요.\n",
    "optimizer = torch.optim.SGD(model.parameters(), lr=1) # SGD optimizer를 사용하고 learing rate는 1로 설정하세요."
   ]
  },
  {
   "cell_type": "markdown",
   "metadata": {
    "id": "ZPwauumjFpV6"
   },
   "source": [
    "총 10,001번의 에포크를 수행합니다. 각 에포크마다 역전파가 수행된다고 보면 되겠습니다."
   ]
  },
  {
   "cell_type": "code",
   "execution_count": null,
   "metadata": {
    "colab": {
     "base_uri": "https://localhost:8080/"
    },
    "id": "KvDB74ydCS1U",
    "outputId": "6870258c-d300-47c1-feca-ac640245ab3b"
   },
   "outputs": [
    {
     "name": "stdout",
     "output_type": "stream",
     "text": [
      "0 0.7408947944641113\n",
      "100 0.6931389570236206\n",
      "200 0.6931374669075012\n",
      "300 0.6931358575820923\n",
      "400 0.6931341886520386\n",
      "500 0.6931324005126953\n",
      "600 0.693130612373352\n",
      "700 0.6931287050247192\n",
      "800 0.6931267380714417\n",
      "900 0.6931245923042297\n",
      "1000 0.6931224465370178\n",
      "1100 0.693120002746582\n",
      "1200 0.6931175589561462\n",
      "1300 0.6931147575378418\n",
      "1400 0.693111777305603\n",
      "1500 0.6931086778640747\n",
      "1600 0.6931051015853882\n",
      "1700 0.6931012868881226\n",
      "1800 0.6930969953536987\n",
      "1900 0.6930922865867615\n",
      "2000 0.6930870413780212\n",
      "2100 0.693081259727478\n",
      "2200 0.693074643611908\n",
      "2300 0.6930670738220215\n",
      "2400 0.6930585503578186\n",
      "2500 0.6930487155914307\n",
      "2600 0.6930371522903442\n",
      "2700 0.6930238008499146\n",
      "2800 0.6930078268051147\n",
      "2900 0.6929886937141418\n",
      "3000 0.6929655075073242\n",
      "3100 0.6929367780685425\n",
      "3200 0.6929006576538086\n",
      "3300 0.6928543448448181\n",
      "3400 0.6927932500839233\n",
      "3500 0.692710280418396\n",
      "3600 0.692592978477478\n",
      "3700 0.6924187541007996\n",
      "3800 0.6921423673629761\n",
      "3900 0.6916618347167969\n",
      "4000 0.6907041072845459\n",
      "4100 0.6883158683776855\n",
      "4200 0.6790615320205688\n",
      "4300 0.5542832016944885\n",
      "4400 0.030292702838778496\n",
      "4500 0.00776748126372695\n",
      "4600 0.004102607257664204\n",
      "4700 0.0027155079878866673\n",
      "4800 0.0020045223645865917\n",
      "4900 0.0015775186475366354\n",
      "5000 0.0012946859933435917\n",
      "5100 0.0010945276590064168\n",
      "5200 0.000945903011597693\n",
      "5300 0.0008314115693792701\n",
      "5400 0.0007407054072245955\n",
      "5500 0.0006671270821243525\n",
      "5600 0.0006063779001124203\n",
      "5700 0.0005553689552471042\n",
      "5800 0.0005119964480400085\n",
      "5900 0.00047467893455177546\n",
      "6000 0.0004422081110533327\n",
      "6100 0.00041379337199032307\n",
      "6200 0.00038865910028107464\n",
      "6300 0.0003662982489913702\n",
      "6400 0.0003463081084191799\n",
      "6500 0.0003282860270701349\n",
      "6600 0.0003119934117421508\n",
      "6700 0.0002971916983369738\n",
      "6800 0.0002836720959749073\n",
      "6900 0.0002713302383199334\n",
      "7000 0.00025994249153882265\n",
      "7100 0.0002494491927791387\n",
      "7200 0.00023974597570486367\n",
      "7300 0.0002307135728187859\n",
      "7400 0.00022233706840779632\n",
      "7500 0.00021457174443639815\n",
      "7600 0.0002072536008199677\n",
      "7700 0.0002004124689847231\n",
      "7800 0.00019401850295253098\n",
      "7900 0.00018798229575622827\n",
      "8000 0.0001823336206143722\n",
      "8100 0.00017698307055979967\n",
      "8200 0.00017191572987940162\n",
      "8300 0.0001671315694693476\n",
      "8400 0.00016264553414657712\n",
      "8500 0.00015832344070076942\n",
      "8600 0.00015423983859363943\n",
      "8700 0.00015033507952466607\n",
      "8800 0.00014662410831078887\n",
      "8900 0.000143121782457456\n",
      "9000 0.00013973870954941958\n",
      "9100 0.00013651957851834595\n",
      "9200 0.00013346440391615033\n",
      "9300 0.0001304986362811178\n",
      "9400 0.00012771174078807235\n",
      "9500 0.0001249546476174146\n",
      "9600 0.00012234659516252577\n",
      "9700 0.00011985778110101819\n",
      "9800 0.00011747328244382516\n",
      "9900 0.0001151633114204742\n",
      "10000 0.00011295767762931064\n"
     ]
    }
   ],
   "source": [
    "for step in range(10001):\n",
    "    optimizer.zero_grad() # gradient를 0으로 초기화\n",
    "    hypothesis = model(X) # 모델을 생성해서 hypothesis를 구해보세요.\n",
    "\n",
    "    # cost/loss function\n",
    "    cost = criterion(hypothesis, Y)# 위에서 정의한 비용함수를 사용하세요.\n",
    "    cost.backward() # 비용 함수를 미분하여 gradient 계산\n",
    "    optimizer.step()  # W와 b를 업데이트\n",
    "\n",
    "    if step % 100 == 0:\n",
    "        print(step, cost.item())"
   ]
  },
  {
   "cell_type": "markdown",
   "metadata": {
    "id": "DWvTYVIGFgYX"
   },
   "source": [
    "이제 모델이 XOR 문제를 풀 수 있는지 테스트 해봅시다."
   ]
  },
  {
   "cell_type": "code",
   "execution_count": null,
   "metadata": {
    "colab": {
     "base_uri": "https://localhost:8080/"
    },
    "id": "Erxp_dapCS1V",
    "outputId": "f1d040d0-41f6-4990-9169-106d5b75229d"
   },
   "outputs": [
    {
     "name": "stdout",
     "output_type": "stream",
     "text": [
      "\n",
      "Hypothesis:  [[6.8849222e-05]\n",
      " [9.9988163e-01]\n",
      " [9.9989247e-01]\n",
      " [1.5689511e-04]] \n",
      "Correct:  [[0.]\n",
      " [1.]\n",
      " [1.]\n",
      " [0.]] \n",
      "Accuracy:  1.0\n"
     ]
    }
   ],
   "source": [
    "# Accuracy computation\n",
    "# True if hypothesis>0.5 else False\n",
    "with torch.no_grad():\n",
    "    hypothesis = model(X)\n",
    "    predicted = (hypothesis > 0.5).float()\n",
    "    accuracy = (predicted == Y).float().mean()\n",
    "    print('\\nHypothesis: ', hypothesis.detach().cpu().numpy(), '\\nCorrect: ', predicted.detach().cpu().numpy(), '\\nAccuracy: ', accuracy.item())"
   ]
  },
  {
   "cell_type": "markdown",
   "metadata": {
    "id": "zuG7sedvQYAv"
   },
   "source": [
    "실제값은 0, 1, 1, 0이며 예측값은 0, 1, 1, 0으로 문제를 해결하는 모습을 보여줍니다."
   ]
  },
  {
   "cell_type": "markdown",
   "metadata": {
    "id": "h4ZOw5LyQurv"
   },
   "source": [
    "Q1. Backpropagation이란?\n",
    "\n",
    "=> Backpropagation(역전파)은 목표값과 실제 모델이 계산한 값이 얼마나 차이가 나는지 구한 후 그 오차값을 다시 뒤로 전파해가면서 각 노드가 갖고 있는 변수들을 갱신하는 알고리즘이다. "
   ]
  },
  {
   "cell_type": "markdown",
   "metadata": {
    "id": "O41kkNU6QzMV"
   },
   "source": [
    "Q2. Backpropagation은 어떤 방식을 이용해 weight, bias 같은 변수들을 업데이트 할까요?\n",
    "\n",
    "=> 경사하강법을 이용해 오차가 최소화 되는 방향으로 진행, 복잡한 미분은 연쇄법칙을 이용한다."
   ]
  }
 ],
 "metadata": {
  "accelerator": "GPU",
  "colab": {
   "collapsed_sections": [],
   "name": "Lab08_2.ipynb",
   "provenance": []
  },
  "kernelspec": {
   "display_name": "Python 3 (ipykernel)",
   "language": "python",
   "name": "python3"
  },
  "language_info": {
   "codemirror_mode": {
    "name": "ipython",
    "version": 3
   },
   "file_extension": ".py",
   "mimetype": "text/x-python",
   "name": "python",
   "nbconvert_exporter": "python",
   "pygments_lexer": "ipython3",
   "version": "3.9.7"
  }
 },
 "nbformat": 4,
 "nbformat_minor": 1
}
